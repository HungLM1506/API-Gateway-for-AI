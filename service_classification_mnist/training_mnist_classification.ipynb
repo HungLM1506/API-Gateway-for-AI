{
 "cells": [
  {
   "cell_type": "code",
   "execution_count": null,
   "metadata": {
    "vscode": {
     "languageId": "plaintext"
    }
   },
   "outputs": [],
   "source": [
    "import torch\n",
    "import torch.nn as nn\n",
    "import torch.optim as optim\n",
    "from torchvision import datasets, transforms, models\n",
    "from torch.utils.data import DataLoader\n",
    "\n",
    "# Kiểm tra xem có GPU không\n",
    "device = torch.device('cuda' if torch.cuda.is_available() else 'cpu')\n",
    "print(f'Using device: {device}')\n",
    "\n",
    "# Cài đặt biến đổi dữ liệu\n",
    "transform = transforms.Compose([\n",
    "    transforms.Grayscale(num_output_channels=3),  # Chuyển ảnh từ grayscale (1 channel) sang 3 channels (RGB)\n",
    "    transforms.Resize(224),  # Resize ảnh về kích thước 224x224 (để phù hợp với ResNet)\n",
    "    transforms.ToTensor(),\n",
    "    transforms.Normalize(mean=[0.485, 0.456, 0.406], std=[0.229, 0.224, 0.225])\n",
    "])\n",
    "\n",
    "# Tải bộ dữ liệu MNIST\n",
    "train_data = datasets.MNIST('.', train=True, download=True, transform=transform)\n",
    "test_data = datasets.MNIST('.', train=False, download=True, transform=transform)\n",
    "\n",
    "train_loader = DataLoader(train_data, batch_size=64, shuffle=True)\n",
    "test_loader = DataLoader(test_data, batch_size=64, shuffle=False)\n",
    "\n",
    "# Tải mô hình ResNet đã được huấn luyện trước từ torchvision\n",
    "model = models.resnet18(pretrained=True)  # Sử dụng ResNet-18 đã huấn luyện sẵn\n",
    "\n",
    "# Chuyển đổi lớp cuối cùng (fully connected layer) của mô hình để phù hợp với số lớp của MNIST (10 class)\n",
    "model.fc = nn.Linear(model.fc.in_features, 10)\n",
    "\n",
    "# Chuyển mô hình lên GPU (nếu có GPU)\n",
    "model = model.to(device)\n",
    "\n",
    "# Đưa mô hình vào chế độ huấn luyện\n",
    "model.train()\n",
    "\n",
    "# Cài đặt hàm mất mát và tối ưu\n",
    "criterion = nn.CrossEntropyLoss()\n",
    "optimizer = optim.Adam(model.parameters(), lr=0.001)\n",
    "\n",
    "# Huấn luyện mô hình\n",
    "epochs = 5\n",
    "for epoch in range(epochs):\n",
    "    running_loss = 0.0\n",
    "    for images, labels in train_loader:\n",
    "        # Chuyển dữ liệu lên GPU\n",
    "        images, labels = images.to(device), labels.to(device)\n",
    "        \n",
    "        # Tiến hành huấn luyện\n",
    "        optimizer.zero_grad()\n",
    "        outputs = model(images)\n",
    "        loss = criterion(outputs, labels)\n",
    "        loss.backward()\n",
    "        optimizer.step()\n",
    "        \n",
    "        running_loss += loss.item()\n",
    "\n",
    "    print(f\"Epoch {epoch+1}/{epochs}, Loss: {running_loss/len(train_loader)}\")\n",
    "\n",
    "# Lưu mô hình đã huấn luyện\n",
    "torch.save(model.state_dict(), \"mnist_resnet.pth\")\n"
   ]
  }
 ],
 "metadata": {
  "language_info": {
   "name": "python"
  }
 },
 "nbformat": 4,
 "nbformat_minor": 2
}
